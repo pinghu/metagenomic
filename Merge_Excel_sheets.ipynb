{
 "cells": [
  {
   "cell_type": "code",
   "execution_count": 2,
   "id": "86177aca",
   "metadata": {
    "scrolled": false
   },
   "outputs": [],
   "source": [
    "import pandas as pd\n",
    "\n",
    "# Read in the two excel sheets\n",
    "df1 = pd.read_excel(\"vox1.pathabundance.community.stat.xlsx\")\n",
    "df2 = pd.read_excel(\"gladiator.pathabundance.community.stat.xlsx\")\n",
    "#df3 = pd.read_excel(\"Monty.xlsx\")\n",
    "# Merge the two sheets on the first column\n",
    "merged_df = pd.merge(df1, df2, on=df1.columns[0], how='inner')\n",
    "#merged_df2 = pd.merge(merged_df, df3, on=merged_df.columns[0], how='outer')\n",
    "# Output the merged data to a new excel file\n",
    "merged_df.to_excel(\"vox1-gladiator.community.pathabundance.stat.inner.xlsx\", index=False)\n",
    "#merged_df2.to_excel(\"merged13123-2.xlsx\", index=False)\n"
   ]
  },
  {
   "cell_type": "code",
   "execution_count": 3,
   "id": "6cd43ad5",
   "metadata": {},
   "outputs": [],
   "source": [
    "gladiator_df = df2[(df2['fdr.Pwilcox_Boct'] <=0.05) & (abs(df2['truefc_B'])>=2)&(df2['fdr.PCor_Spearman'] <=0.05) & (df2['fdr.Pwilcox_BvC_log'] <=0.05) ]\n",
    "gladiator_df.to_excel(\"gladiator.pathabundance.sig.xlsx\", index=False)"
   ]
  },
  {
   "cell_type": "code",
   "execution_count": 4,
   "id": "2b15c678",
   "metadata": {},
   "outputs": [],
   "source": [
    "vox1_df= df1[(df1['fdr.Pwilcon_DX'] <=0.05) &(abs(df1['true_DX'])>=2)& (df1['fdr.Pval_ASFS_COR_spearman'] <=0.05)]\n",
    "#vox1_df= df1[(df1['fdr.Pwilcon_DX'] <=0.05) & (df1['fdr.Pval_ASFS_COR_spearman'] <=0.05)]\n",
    "\n",
    "vox1_df.to_excel(\"vox1.pathabundance.DX.sig.xlsx\")"
   ]
  },
  {
   "cell_type": "code",
   "execution_count": 6,
   "id": "ff67b822",
   "metadata": {},
   "outputs": [],
   "source": [
    "vox1_merged_df= merged_df[(merged_df['fdr.Pwilcon_DX'] <=0.05) & (abs(merged_df['true_DX'])>=2)& (merged_df['fdr.Pval_ASFS_COR_spearman'] <=0.05)]\n",
    "vox1_merged_df.to_excel(\"merged.vox1.pathabundance.DX.sig.xlsx\")"
   ]
  },
  {
   "cell_type": "code",
   "execution_count": 7,
   "id": "b05f8230",
   "metadata": {},
   "outputs": [
    {
     "name": "stdout",
     "output_type": "stream",
     "text": [
      "(3, 24)\n"
     ]
    }
   ],
   "source": [
    "print (vox1_df.shape)"
   ]
  },
  {
   "cell_type": "code",
   "execution_count": 8,
   "id": "cfa2e9d1",
   "metadata": {},
   "outputs": [
    {
     "name": "stdout",
     "output_type": "stream",
     "text": [
      "(21, 26)\n"
     ]
    }
   ],
   "source": [
    "print (gladiator_df.shape)"
   ]
  },
  {
   "cell_type": "code",
   "execution_count": 9,
   "id": "5a0f4bd5",
   "metadata": {},
   "outputs": [
    {
     "name": "stdout",
     "output_type": "stream",
     "text": [
      "(3, 49)\n"
     ]
    }
   ],
   "source": [
    "print (vox1_merged_df.shape)"
   ]
  },
  {
   "cell_type": "code",
   "execution_count": 11,
   "id": "d75f8da9",
   "metadata": {},
   "outputs": [],
   "source": [
    "gladiator_merged_df= merged_df[(merged_df['fdr.Pwilcox_Boct'] <=0.05)&(abs(merged_df['truefc_B'])>=2) & (merged_df['fdr.PCor_Spearman'] <=0.05)\n",
    "                              & (merged_df['Pwilcon_DX'] <=0.05) & (merged_df['Pval_ASFS_COR_spearman'] <=0.05)]\n",
    "gladiator_merged_df.to_excel(\"merged.gladiator.pathabundance.DX.sig.xlsx\")"
   ]
  },
  {
   "cell_type": "code",
   "execution_count": 12,
   "id": "f6454a5d",
   "metadata": {},
   "outputs": [
    {
     "name": "stdout",
     "output_type": "stream",
     "text": [
      "(7, 49)\n"
     ]
    }
   ],
   "source": [
    "print(gladiator_merged_df.shape)"
   ]
  },
  {
   "cell_type": "code",
   "execution_count": null,
   "id": "5b908d09",
   "metadata": {},
   "outputs": [],
   "source": []
  }
 ],
 "metadata": {
  "kernelspec": {
   "display_name": "Python 3 (ipykernel)",
   "language": "python",
   "name": "python3"
  },
  "language_info": {
   "codemirror_mode": {
    "name": "ipython",
    "version": 3
   },
   "file_extension": ".py",
   "mimetype": "text/x-python",
   "name": "python",
   "nbconvert_exporter": "python",
   "pygments_lexer": "ipython3",
   "version": "3.9.12"
  }
 },
 "nbformat": 4,
 "nbformat_minor": 5
}
